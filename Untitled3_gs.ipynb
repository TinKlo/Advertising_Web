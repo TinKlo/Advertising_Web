{
  "nbformat": 4,
  "nbformat_minor": 0,
  "metadata": {
    "colab": {
      "name": "Untitled3.gs",
      "provenance": [],
      "collapsed_sections": [],
      "authorship_tag": "ABX9TyOTlP4OwiULxYMt/DTHpSEG",
      "include_colab_link": true
    },
    "kernelspec": {
      "name": "python3",
      "display_name": "Python 3"
    }
  },
  "cells": [
    {
      "cell_type": "markdown",
      "metadata": {
        "id": "view-in-github",
        "colab_type": "text"
      },
      "source": [
        "<a href=\"https://colab.research.google.com/github/TinKlo/Advertising_Web/blob/master/Untitled3_gs.ipynb\" target=\"_parent\"><img src=\"https://colab.research.google.com/assets/colab-badge.svg\" alt=\"Open In Colab\"/></a>"
      ]
    },
    {
      "cell_type": "code",
      "metadata": {
        "id": "JPn_pV5PdV8h",
        "colab_type": "code",
        "colab": {}
      },
      "source": [
        ""
      ],
      "execution_count": null,
      "outputs": []
    },
    {
      "cell_type": "code",
      "metadata": {
        "id": "B0zXXQssdXp0",
        "colab_type": "code",
        "colab": {}
      },
      "source": [
        "function chimpCampaigns() {\n",
        "var API_KEY = 'API_KEY'; // MailChimp API \n",
        "REPORT_START_DATE = '2019-01-01 00:00:00'; // Start Date\n",
        "var ss = SpreadsheetApp.openById('spreadsheet_ID');\n",
        "var sheet = ss.getSheetByName(\"campaign_data\");\n",
        "var dc = API_KEY.split('-')[1];\n",
        "var api = 'https://'+ dc +'.api.mailchimp.com/3.0';\n",
        "var count = 500; // Max rows to return\n",
        "var campaignList = '/campaigns?&count='+count+'&since_send_time='+REPORT_START_DATE\n",
        "var options = {\"headers\": {\"authorization\": 'apikey '+API_KEY}};\n",
        "var apiCall = function(endpoint){\n",
        "apiResponseCampaigns = UrlFetchApp.fetch(api+endpoint,options);\n",
        "json = JSON.parse(apiResponseCampaigns);\n",
        "return json\n",
        "}\n",
        "var campaigns = apiCall(campaignList);\n",
        "var total = campaigns.total_items;\n",
        "var campaignData = campaigns.campaigns;\n",
        "if (campaignData) {\n",
        "sheet.clear(); // Clear all data in Spreadsheet\n",
        "// Create the Header\n",
        "sheet.appendRow([\"Sent Time\", \"Campaign ID\", \"Campaign Title\", \"Subject Line\", \"Emails Sent\", \"Abuse Reports\", \"Unsubscribed\", \"Unsubscribe Rate\", \"Hard Bounces\", \"Soft Bounces\", \"Bounces Total\", \"Syntax Errors\", \"Forwards Count\", \"Forwards Opens\", \"Opens Total\", \"Unique Opens\", \"Open Rate\", \"Last Open\", \"Clicks Total\", \"Unique Clicks\",\"Unique Subscriber Clicks\", \"Click Rate\", \"Last Click\"]);\n",
        "}\n",
        "for (i=0; i< campaignData.length; i++){\n",
        "  var c = campaignData[i];\n",
        "  var cid = c.id;\n",
        "  var title = c.title;\n",
        "  var subject = c.subject;\n",
        "  var send_time = c.send_time;\n",
        "  if (send_time){\n",
        "    apiResponseReports = UrlFetchApp.fetch('https://'+ dc+'.api.mailchimp.com/3.0/reports/'+cid,options);\n",
        "    reports = JSON.parse(apiResponseReports);\n",
        "    reportsSendTime = reports.send_time; \n",
        "    if(reportsSendTime){ \n",
        "        var campaign_title = c.settings.title;\n",
        "var subject_line = c.settings.subject_line;\n",
        "var emails_sent = reports.emails_sent;\n",
        "var abuse_reports = reports.abuse_reports;\n",
        "var unsubscribed = reports.unsubscribed;\n",
        "var unsubscribe_rate = unsubscribed/emails_sent;\n",
        "var hard_bounces = reports.bounces.hard_bounces;\n",
        "var soft_bounces = reports.bounces.soft_bounces;\n",
        "var bounces = hard_bounces+soft_bounces;\n",
        "var syntax_errors = reports.bounces.syntax_errors;\n",
        "var forwards_count = reports.forwards.forwards_count;\n",
        "var forwards_opens = reports.forwards.forwards_opens;\n",
        "var opens_total = reports.opens.opens_total;\n",
        "var unique_opens = reports.opens.unique_opens;\n",
        "var open_rate = reports.opens.open_rate;\n",
        "var last_open = reports.opens.last_open;\n",
        "var clicks_total = reports.clicks.clicks_total;\n",
        "var unique_clicks = reports.clicks.unique_clicks;\n",
        "var unique_subscriber_clicks = reports.clicks.unique_subscriber_clicks;\n",
        "var click_rate = reports.clicks.click_rate;\n",
        "var report = [send_time, cid, campaign_title, subject_line,\n",
        "emails_sent, abuse_reports, unsubscribed, unsubscribe_rate, hard_bounces, soft_bounces, bounces, syntax_errors, forwards_count, forwards_opens, opens_total, unique_opens, open_rate, last_open, clicks_total, unique_clicks, unique_subscriber_clicks, click_rate];\n",
        "sheet.appendRow(report);\n",
        "}\n",
        "}\n",
        "}\n",
        "}"
      ],
      "execution_count": null,
      "outputs": []
    }
  ]
}